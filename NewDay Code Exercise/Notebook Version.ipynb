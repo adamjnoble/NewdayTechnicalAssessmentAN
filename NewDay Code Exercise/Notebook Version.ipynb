{
 "cells": [
  {
   "cell_type": "markdown",
   "id": "a08c492f-edc1-4b2f-84ee-2a2eb9e583cc",
   "metadata": {},
   "source": [
    "Newday Technical Assessment"
   ]
  },
  {
   "cell_type": "code",
   "execution_count": 1,
   "id": "f72e9396-b8f9-4453-911d-aa1ceb655c4b",
   "metadata": {},
   "outputs": [],
   "source": [
    "# Newday Technical Assessment - by Adam Noble"
   ]
  },
  {
   "cell_type": "code",
   "execution_count": 2,
   "id": "6f47e32d-8e99-414d-b35c-fc768ad42637",
   "metadata": {},
   "outputs": [],
   "source": [
    "# Declare the imports that are required for the script to run.\n",
    "import os\n",
    "from pyspark.sql import SparkSession, Window\n",
    "from pyspark.sql.types import StructType, StructField, IntegerType, StringType, TimestampType\n",
    "from pyspark.sql.functions import avg, min, max, asc, desc, rank, col\n",
    "from pyspark.sql.functions import from_unixtime"
   ]
  },
  {
   "cell_type": "code",
   "execution_count": 3,
   "id": "6993ae6d-ad21-43a9-85e5-85a9fc2efe83",
   "metadata": {},
   "outputs": [],
   "source": [
    "# Create the Spark Session, with App Name 'Newday Technical Task'\n",
    "spark = SparkSession.builder.appName('Newday Technical Task').getOrCreate()\n",
    "        "
   ]
  },
  {
   "cell_type": "code",
   "execution_count": 4,
   "id": "1775e64a-6c1b-4b01-8f01-0a9d1d39b1f0",
   "metadata": {},
   "outputs": [],
   "source": [
    "# Declare the relative file path to the Movie Data.\n",
    "pathMovieData = \"data/movies.dat\""
   ]
  },
  {
   "cell_type": "code",
   "execution_count": 5,
   "id": "94b452f9-32e3-4d84-8d16-1b547d34736a",
   "metadata": {},
   "outputs": [],
   "source": [
    "# Declare the relative file to the Ratings Data.\n",
    "pathRatingData = \"data/ratings.dat\""
   ]
  },
  {
   "cell_type": "code",
   "execution_count": 6,
   "id": "81634310-4060-4c69-95fd-deebd16f0d56",
   "metadata": {},
   "outputs": [],
   "source": [
    "# Declare the Movie Schema.\n",
    "movieSchema = StructType([\n",
    "    StructField(\"Movie ID\", IntegerType(), False),\n",
    "    StructField(\"Movie Title (Year)\",StringType(),True),\n",
    "    StructField(\"Movie Genre\", StringType(), True)\n",
    "])"
   ]
  },
  {
   "cell_type": "code",
   "execution_count": 7,
   "id": "14396d2f-1906-4ab9-aeb9-4c03880cba0a",
   "metadata": {},
   "outputs": [],
   "source": [
    "# Read the Movie Data from the .dat file, recognising the data is delimited by '::'. Use the schema above, and convert the data into a Risilient Distributed Dataset (RDD) \n",
    "# for usage with the 'createDataFrame function'.\n",
    "moviesData = spark.read.option(\"delimiter\", \"::\").csv(pathMovieData, header=False, schema=movieSchema).rdd.map(lambda x: (x[0], x[1], x[2]))\n"
   ]
  },
  {
   "cell_type": "code",
   "execution_count": 8,
   "id": "75e6939f-5e61-4ab4-b3f0-27e9d8f9bc92",
   "metadata": {},
   "outputs": [],
   "source": [
    "# Create the Movies Dataframe\n",
    "moviesDf = spark.createDataFrame(moviesData, movieSchema)"
   ]
  },
  {
   "cell_type": "code",
   "execution_count": 9,
   "id": "11148cfa-72a0-429b-91bd-d9eeac78c5b1",
   "metadata": {},
   "outputs": [],
   "source": [
    "# Declare the Ratings Schema\n",
    "ratingsSchema = StructType([\n",
    "    StructField(\"User ID\", IntegerType(), False),\n",
    "    StructField(\"Movie ID\", IntegerType(), False),\n",
    "    StructField(\"Rating\",IntegerType(),True),\n",
    "    StructField(\"Timestamp\", IntegerType(), True)\n",
    "])"
   ]
  },
  {
   "cell_type": "code",
   "execution_count": 10,
   "id": "82a75a22-42b2-4896-8a98-3479d0b2d91a",
   "metadata": {},
   "outputs": [],
   "source": [
    "# Read the Ratings Data from the .dat file, recognising the data is delimited by '::'. Use the schema above, and convert the data into a Risilient Distributed Dataset (RDD) \n",
    "# for usage with the 'createDataFrame function'.\n",
    "ratingData = spark.read.option(\"delimiter\", \"::\").csv(pathRatingData, header=False, schema=ratingsSchema).rdd.map(lambda x: (x[0], x[1], x[2], x[3]))"
   ]
  },
  {
   "cell_type": "code",
   "execution_count": 11,
   "id": "73490278-1327-4d12-b64d-0f19e1c54afc",
   "metadata": {},
   "outputs": [],
   "source": [
    "# Create the Ratings Dataframe\n",
    "ratingDf = spark.createDataFrame(ratingData, ratingsSchema)"
   ]
  },
  {
   "cell_type": "code",
   "execution_count": 12,
   "id": "2e3afc0e-eb60-400c-994a-f0eb5d9f23a3",
   "metadata": {},
   "outputs": [],
   "source": [
    "# Convert the Timestamp from Seconds (per the Readme) into a Timestamp with type TimestampType, and overwrite the existing Ratings Dataframe.\n",
    "ratingDf = ratingDf.withColumn(\"Timestamp\", from_unixtime(\"Timestamp\").cast(TimestampType()))"
   ]
  },
  {
   "cell_type": "markdown",
   "id": "28e67c76-ed50-43a8-b383-0debd43311a3",
   "metadata": {},
   "source": [
    "Task 2"
   ]
  },
  {
   "cell_type": "code",
   "execution_count": 13,
   "id": "7927666d-0b47-43b6-9799-9dbdffe21dcb",
   "metadata": {},
   "outputs": [],
   "source": [
    "# Initially aggregate the Ratings Dataframe by grouping by the Movie Id. This is to gain the minimum rating, maximum rating and average rating per Movie ID.\n",
    "# Order by Movie ID for cleanliness.\n",
    "movieRatingAggregationsDf = ratingDf.groupBy(\"Movie Id\").agg(\n",
    "    avg(\"Rating\").alias(\"Average Rating\"),\n",
    "    min(\"Rating\").alias(\"Minimum Rating\"),\n",
    "    max(\"Rating\").alias(\"Maximum Rating\")\n",
    ").orderBy(asc(\"Movie Id\"))"
   ]
  },
  {
   "cell_type": "code",
   "execution_count": 14,
   "id": "b417ba32-aadd-491a-835e-5f537d0a7229",
   "metadata": {},
   "outputs": [],
   "source": [
    "# Join the Aggregated Rating Data with the Movie Data on the 'Movie ID', this will then complete the full data set required.\n",
    "moviesWithAggregateRatingsDf = movieRatingAggregationsDf.join(moviesDf,\"Movie Id\").select(\"Movie Id\",\"Movie Title (Year)\", \"Movie Genre\", \"Minimum Rating\",\"Maximum Rating\",\"Average Rating\").orderBy(asc(\"Movie Id\"))"
   ]
  },
  {
   "cell_type": "markdown",
   "id": "36fd13a1-159e-42c7-95d9-61c993490dab",
   "metadata": {},
   "source": [
    "Task 3"
   ]
  },
  {
   "cell_type": "code",
   "execution_count": 15,
   "id": "8f143b4a-730c-43b7-b36d-5f98dbb50b7e",
   "metadata": {},
   "outputs": [],
   "source": [
    "# Create individual paritions by User Id, and order by Rating and Timestamp.\n",
    "# I chose a timestamp order as there's more than 3 films per users in some cases that are top rated, so I have given the 3 most recent, top-rated reviews per user.\n",
    "# There are some cases where there is the exact same timestamp for more than one film per user, and they are included in the list.\n",
    "window = Window.partitionBy(\"User Id\").orderBy(col(\"Rating\").desc(), col(\"Timestamp\").desc())"
   ]
  },
  {
   "cell_type": "code",
   "execution_count": 16,
   "id": "f3ed42d0-8eb4-4e96-b356-6b50dc8b8764",
   "metadata": {},
   "outputs": [],
   "source": [
    "# Select all data from Rating Dataframe, plus the top 3 ranked films per user (in most cases, except where there is more than one film on the same timestamp).\n",
    "top3PerUserDf = ratingDf.select('*', rank().over(window).alias('Rank')).filter(col(\"Rank\") <= 3)"
   ]
  },
  {
   "cell_type": "code",
   "execution_count": 26,
   "id": "043740f6-50c1-4595-85f2-37913e297507",
   "metadata": {},
   "outputs": [],
   "source": [
    "# Join with the Movie Dataframe to give the fuller analysis of what movies the user selected in their top 3 ranked.\n",
    "top3PerUserWithDetailDf = top3PerUserDf.join(moviesDf,\"Movie Id\").select(\"User Id\",\"Movie Id\",\"Movie Title (Year)\", col(\"Timestamp\").alias(\"Time of Review\"),\"Rank\")"
   ]
  },
  {
   "cell_type": "markdown",
   "id": "9599919a-b2f3-416b-8c41-3dc73a35a254",
   "metadata": {},
   "source": [
    "Task 4"
   ]
  },
  {
   "cell_type": "code",
   "execution_count": 18,
   "id": "255278db-a51f-4d9f-b53e-3255ad18711f",
   "metadata": {},
   "outputs": [],
   "source": [
    "# Write File Paths of each Dataframe"
   ]
  },
  {
   "cell_type": "code",
   "execution_count": 27,
   "id": "5e86ba21-b3c8-4e6d-a104-a1681e4e461d",
   "metadata": {},
   "outputs": [],
   "source": [
    "# Movies Dataframe\n",
    "movieDfOutputPath = \"output/movieDf.csv\"\n",
    "# Ratings Dataframe\n",
    "ratingsDfOutputPath = 'output/ratingsDf.csv'\n",
    "# movieRatingsJoinDf\n",
    "movieWithAggregateRatingDfPath = 'output/movieWithAggregateRatingDf.csv'\n",
    "# top3PerUserWithDetailDf\n",
    "top3PerUserWithDetailDfPath = 'output/top3PerUserWithDetailDf.csv'"
   ]
  },
  {
   "cell_type": "code",
   "execution_count": 20,
   "id": "d070adb5-2c68-40cd-ac89-c6267f416ceb",
   "metadata": {},
   "outputs": [],
   "source": [
    "# Create the CSVs for each Dataframe"
   ]
  },
  {
   "cell_type": "code",
   "execution_count": 28,
   "id": "15b89fed-622b-421d-9e85-32569af69a1c",
   "metadata": {},
   "outputs": [],
   "source": [
    "# Write the Movies Dataframe to CSV\n",
    "moviesDf.coalesce(1).write.mode(\"overwrite\").option(\"header\", True).option(\"delimiter\",\",\").csv(movieDfOutputPath)\n",
    "# Write the Ratings Dataframe to CSV\n",
    "ratingDf.write.mode(\"overwrite\").option(\"header\", True).option(\"delimiter\",\",\").csv(ratingsDfOutputPath)\n",
    "# Write the Movies with Aggregate Ratings Dataframe to CSV\n",
    "moviesWithAggregateRatingsDf.coalesce(1).write.mode(\"overwrite\").option(\"header\", True).option(\"delimiter\",\",\").csv(movieWithAggregateRatingDfPath)\n",
    "# Write the Top 3 Movie Ratings Per User With Detail Dataframe to CSV\n",
    "top3PerUserWithDetailDf.write.mode(\"overwrite\").option(\"header\", True).option(\"delimiter\",\",\").csv(top3PerUserWithDetailDfPath)\n"
   ]
  },
  {
   "cell_type": "code",
   "execution_count": null,
   "id": "20215436-dc9b-472f-908a-3a86317aa022",
   "metadata": {},
   "outputs": [],
   "source": []
  }
 ],
 "metadata": {
  "kernelspec": {
   "display_name": "Python 3 (ipykernel)",
   "language": "python",
   "name": "python3"
  },
  "language_info": {
   "codemirror_mode": {
    "name": "ipython",
    "version": 3
   },
   "file_extension": ".py",
   "mimetype": "text/x-python",
   "name": "python",
   "nbconvert_exporter": "python",
   "pygments_lexer": "ipython3",
   "version": "3.11.6"
  }
 },
 "nbformat": 4,
 "nbformat_minor": 5
}
